{
 "cells": [
  {
   "cell_type": "code",
   "execution_count": 1,
   "metadata": {},
   "outputs": [],
   "source": [
    "import numpy as np"
   ]
  },
  {
   "cell_type": "code",
   "execution_count": 2,
   "metadata": {},
   "outputs": [],
   "source": [
    "# Implementation of Binomial Tree Options Pricing (American Options)\n",
    "def Option_Val(n, S, K, r, v, T, PC, q=0):\n",
    "    dt = T/n                    \n",
    "    u = np.exp(v*np.sqrt(dt)) \n",
    "    d = 1.0/u                     \n",
    "    p = (np.exp((r-q)*dt)-d)/(u-d)   \n",
    "    Pm = np.zeros((n+1, n+1)) # Underlying Asset Price  \n",
    "    Cm = np.zeros((n+1, n+1)) # Option Value\n",
    "    tmp = np.zeros((2,n+1))\n",
    "    for j in range(n+1):\n",
    "        tmp[0,j] = S*np.power(d,j)\n",
    "        tmp[1,j] = S*np.power(u,j)\n",
    "    \n",
    "    tot = np.unique(tmp)\n",
    "    c=n\n",
    "    for i in range(c+1):\n",
    "        for j in range(c+1):\n",
    "            Pm[i,j-c-1] = tot[(n-i)+j]\n",
    "        c=c-1\n",
    "    for j in range(n+1, 0, -1):\n",
    "        for i in range(j):\n",
    "            if (PC == 1):                               \n",
    "                if(j == n+1):\n",
    "                    Cm[i,j-1] = max(K-Pm[i,j-1], 0)     \n",
    "                else:\n",
    "                    early = max(K-Pm[i,j-1], 0) # early excercise value\n",
    "                    wait = np.exp(-r*dt) * (p*Cm[i,j] + (1-p)*Cm[i+1,j]) # wait until the end value\n",
    "                    if early < wait:\n",
    "                        Cm[i,j-1] = wait\n",
    "                    else:\n",
    "                        Cm[i,j-1] = early\n",
    "            elif (PC == 0):                               \n",
    "                if (j == n + 1):\n",
    "                    Cm[i,j-1] = max(Pm[i,j-1]-K, 0)     \n",
    "                else:\n",
    "                    early = max(Pm[i,j-1]-K, 0)  # early excercise value\n",
    "                    wait = np.exp(-r*dt) * (p*Cm[i,j] + (1-p)*Cm[i+1,j]) # wait until the end value\n",
    "                    if early < wait:\n",
    "                        Cm[i,j-1] = wait\n",
    "                    else:\n",
    "                        Cm[i,j-1] = early       \n",
    "    return Pm, Cm"
   ]
  },
  {
   "cell_type": "code",
   "execution_count": 3,
   "metadata": {
    "scrolled": false
   },
   "outputs": [
    {
     "name": "stdout",
     "output_type": "stream",
     "text": [
      "Stock Prices:\n",
      " [[ 50.          56.12030433  62.98977115  70.70010253  79.35422539\n",
      "   89.06766557]\n",
      " [  0.          44.54715686  50.          56.12030433  62.98977115\n",
      "   70.70010253]\n",
      " [  0.           0.          39.68898369  44.54715686  50.          56.12030433]\n",
      " [  0.           0.           0.          35.36062765  39.68898369\n",
      "   44.54715686]\n",
      " [  0.           0.           0.           0.          31.50430853\n",
      "   35.36062765]\n",
      " [  0.           0.           0.           0.           0.          28.06854748]]\n",
      "Option Values:\n",
      " [[  4.48859919   2.1625898    0.63600521   0.           0.           0.        ]\n",
      " [  0.           6.95996679   3.77126872   1.30171162   0.           0.        ]\n",
      " [  0.           0.          10.36163584   6.3782645    2.66421269   0.        ]\n",
      " [  0.           0.           0.          14.63937235  10.31101631\n",
      "    5.45284314]\n",
      " [  0.           0.           0.           0.          18.49569147\n",
      "   14.63937235]\n",
      " [  0.           0.           0.           0.           0.          21.93145252]]\n",
      "Option Value at t = 0: 4.48859919382\n"
     ]
    }
   ],
   "source": [
    "# Hull Example 18.1\n",
    "S = 50\n",
    "k = 50\n",
    "r = .1\n",
    "v = .4\n",
    "T = 0.4167\n",
    "n = 5\n",
    "PC = 1 # 0 for call, 1 for put\n",
    "Pm,Cm = Option_Val(n,S,k,r,v,T,PC)\n",
    "print('Stock Prices:\\n',np.matrix(Pm.astype(float)))\n",
    "print('Option Values:\\n',np.matrix(Cm.astype(float)))\n",
    "print('Option Value at t = 0:',Cm[0][0])"
   ]
  },
  {
   "cell_type": "code",
   "execution_count": 4,
   "metadata": {},
   "outputs": [
    {
     "name": "stdout",
     "output_type": "stream",
     "text": [
      "Stock Prices:\n",
      " [[ 50.          58.09171214  67.49294038  78.41560927]\n",
      " [  0.          43.03539882  50.          58.09171214]\n",
      " [  0.           0.          37.04091103  43.03539882]\n",
      " [  0.           0.           0.          31.88140758]]\n",
      "Option Values:\n",
      " [[  4.28922495   1.42918731   0.           0.        ]\n",
      " [  0.           7.30821389   2.91968017   0.        ]\n",
      " [  0.           0.          11.95908897   5.96460118]\n",
      " [  0.           0.           0.          17.11859242]]\n",
      "Option Value at t = 0: 4.28922495473\n"
     ]
    }
   ],
   "source": [
    "# Hull Excercise 18.10\n",
    "S = 50\n",
    "k = 49\n",
    "r = .05\n",
    "v = .3\n",
    "T = 0.75\n",
    "n = 3\n",
    "PC = 1 # 0 for call, 1 for put\n",
    "Pm,Cm = Option_Val(n,S,k,r,v,T,PC)\n",
    "print('Stock Prices:\\n',np.matrix(Pm.astype(float)))\n",
    "print('Option Values:\\n',np.matrix(Cm.astype(float)))\n",
    "print('Option Value at t = 0:',Cm[0][0])"
   ]
  },
  {
   "cell_type": "code",
   "execution_count": 5,
   "metadata": {},
   "outputs": [
    {
     "name": "stdout",
     "output_type": "stream",
     "text": [
      "Option Value at t = 0: 3.90149932065\n"
     ]
    }
   ],
   "source": [
    "# Hull Excercise 18.10\n",
    "S = 50\n",
    "k = 49\n",
    "r = .05\n",
    "v = .3\n",
    "T = 0.75\n",
    "n = 500 \n",
    "PC = 1 # 0 for call, 1 for put\n",
    "Pm,Cm = Option_Val(n,S,k,r,v,T,PC)\n",
    "print('Option Value at t = 0:',Cm[0][0])"
   ]
  },
  {
   "cell_type": "code",
   "execution_count": 6,
   "metadata": {},
   "outputs": [
    {
     "name": "stdout",
     "output_type": "stream",
     "text": [
      "Futures Prices:\n",
      " [[ 400.          476.49848664  567.62701944  676.18353935]\n",
      " [   0.          335.78280831  400.          476.49848664]\n",
      " [   0.            0.          281.87523589  335.78280831]\n",
      " [   0.            0.            0.          236.62214575]]\n",
      "Option Values:\n",
      " [[  42.06767275   79.97099678  147.62701944  256.18353935]\n",
      " [   0.           11.41893556   25.3998539    56.49848664]\n",
      " [   0.            0.            0.            0.        ]\n",
      " [   0.            0.            0.            0.        ]]\n",
      "Option Value at t = 0: 42.0676727535\n",
      "Delta Approximation is: 0.487167187264\n"
     ]
    }
   ],
   "source": [
    "# Hull Excercise 18.11\n",
    "F = 400\n",
    "k = 420\n",
    "r = .06\n",
    "q = r\n",
    "v = .35\n",
    "T = 0.75\n",
    "n = 3\n",
    "PC = 0 # 0 for call, 1 for put\n",
    "Pm,Cm = Option_Val(n,F,k,r,v,T,PC,q)\n",
    "print('Futures Prices:\\n',np.matrix(Pm.astype(float)))\n",
    "print('Option Values:\\n',np.matrix(Cm.astype(float)))\n",
    "print('Option Value at t = 0:',Cm[0][0])\n",
    "print('Delta Approximation is:' ,(Cm[0][1]-Cm[1][1])/(Pm[0][1]-Pm[1][1]))"
   ]
  },
  {
   "cell_type": "code",
   "execution_count": 7,
   "metadata": {},
   "outputs": [
    {
     "name": "stdout",
     "output_type": "stream",
     "text": [
      "When n =500, Option Value at t = 0: 38.6082511847\n",
      "When n= 500, Delta Approximation is: 0.480679370635\n"
     ]
    }
   ],
   "source": [
    "Pm,Cm = Option_Val(500,F,k,r,v,T,PC,q)\n",
    "print('When n =500, Option Value at t = 0:',Cm[0][0])\n",
    "print('When n= 500, Delta Approximation is:' ,(Cm[0][1]-Cm[1][1])/(Pm[0][1]-Pm[1][1]))"
   ]
  },
  {
   "cell_type": "code",
   "execution_count": 8,
   "metadata": {},
   "outputs": [
    {
     "name": "stdout",
     "output_type": "stream",
     "text": [
      "Futures Prices:\n",
      " [[ 484.          509.34008814  536.00687063  564.0698073   593.60199456]\n",
      " [   0.          459.92060208  484.          509.34008814  536.00687063]\n",
      " [   0.            0.          437.039174    459.92060208  484.        ]\n",
      " [   0.            0.            0.          415.29611578  437.039174  ]\n",
      " [   0.            0.            0.            0.          394.63479259]]\n",
      "Option Values:\n",
      " [[ 14.93323365   4.81481062   0.           0.           0.        ]\n",
      " [  0.          25.84302528   9.98643196   0.           0.        ]\n",
      " [  0.           0.          42.960826    20.7129275    0.        ]\n",
      " [  0.           0.           0.          64.70388422  42.960826  ]\n",
      " [  0.           0.           0.           0.          85.36520741]]\n",
      "Option Value at t = 0: 14.9332336495\n"
     ]
    }
   ],
   "source": [
    "# Hull Excercise 18.14\n",
    "S = 484\n",
    "k = 480\n",
    "r = .1\n",
    "q = .03\n",
    "v = .25\n",
    "T = 2/12\n",
    "n = 4\n",
    "PC = 1 # 0 for call, 1 for put\n",
    "Pm,Cm = Option_Val(n,S,k,r,v,T,PC,q)\n",
    "print('Futures Prices:\\n',np.matrix(Pm.astype(float)))\n",
    "print('Option Values:\\n',np.matrix(Cm.astype(float)))\n",
    "print('Option Value at t = 0:',Cm[0][0])"
   ]
  },
  {
   "cell_type": "code",
   "execution_count": null,
   "metadata": {},
   "outputs": [],
   "source": []
  }
 ],
 "metadata": {
  "kernelspec": {
   "display_name": "Python 3",
   "language": "python",
   "name": "python3"
  },
  "language_info": {
   "codemirror_mode": {
    "name": "ipython",
    "version": 3
   },
   "file_extension": ".py",
   "mimetype": "text/x-python",
   "name": "python",
   "nbconvert_exporter": "python",
   "pygments_lexer": "ipython3",
   "version": "3.6.8"
  }
 },
 "nbformat": 4,
 "nbformat_minor": 2
}
